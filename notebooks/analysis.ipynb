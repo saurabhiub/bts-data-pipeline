# Airline Data Pipeline Analysis Notebook
# ======================================

# ## 1. Environment Setup
import pandas as pd
import pymongo
import matplotlib.pyplot as plt
import seaborn as sns
from google.cloud import storage
import json

# Set up connections
BUCKET_NAME = "<your_bucket>"
MONGODB_URI = "mongodb://127.0.0.1:27017/"

storage_client = storage.Client()
bucket = storage_client.bucket(BUCKET_NAME)

# ## 2. Data Source and Ingestion
# Connect to MongoDB
client = pymongo.MongoClient(MONGODB_URI)
db = client['airline_db']
collection = db['flights']

# Get data statistics
total_flights = collection.count_documents({})
print(f"Total flights in database: {total_flights}")

# ## 3. Data Quality Analysis
# Sample some documents
sample_docs = list(collection.find().limit(2))
print("Sample documents:")
for doc in sample_docs:
    print(json.dumps(doc, indent=2, default=str))

# Check for missing values
pipeline = [
    {
        "$group": {
            "_id": None,
            "missing_carrier": {"$sum": {"$cond": [{"$eq": ["$flight_info.airline", None]}, 1, 0]}},
            "missing_origin": {"$sum": {"$cond": [{"$eq": ["$airport_info.origin", None]}, 1, 0]}},
            "missing_date": {"$sum": {"$cond": [{"$eq": ["$flight_info.date", None]}, 1, 0]}}
        }
    }
]

missing_values = list(collection.aggregate(pipeline))
print("Missing values analysis:")
print(missing_values)

# ## 4. Delay Analysis
# Get delay statistics by airline
delay_by_airline = list(collection.aggregate([
    {
        "$group": {
            "_id": "$flight_info.airline",
            "avg_delay": {"$avg": "$delay_info.total_delay"},
            "total_flights": {"$sum": 1},
            "delayed_flights": {
                "$sum": {"$cond": [{"$gt": ["$delay_info.total_delay", 0]}, 1, 0]}
            }
        }
    },
    {"$sort": {"avg_delay": -1}}
]))

df_delays = pd.DataFrame(delay_by_airline)
print("Delay analysis by airline:")
print(df_delays)

# Plot delays
plt.figure(figsize=(10, 6))
sns.barplot(data=df_delays, x='_id', y='avg_delay')
plt.title('Average Delay by Airline')
plt.xlabel('Airline')
plt.ylabel('Average Delay (minutes)')
plt.xticks(rotation=45)
plt.tight_layout()
plt.savefig('delay_by_airline.png')
plt.close()

# ## 5. Airport Performance
# Get busiest airports
busiest_airports = list(collection.aggregate([
    {
        "$group": {
            "_id": "$airport_info.origin",
            "departure_count": {"$sum": 1},
            "avg_departure_delay": {"$avg": "$delay_info.total_delay"}
        }
    },
    {"$sort": {"departure_count": -1}},
    {"$limit": 10}
]))

df_airports = pd.DataFrame(busiest_airports)
print("Top 10 busiest airports:")
print(df_airports)

# ## 6. Time Series Analysis
# Get monthly delay trends
monthly_delays = list(collection.aggregate([
    {
        "$group": {
            "_id": {
                "year": {"$year": "$flight_info.date"},
                "month": {"$month": "$flight_info.date"}
            },
            "avg_delay": {"$avg": "$delay_info.total_delay"},
            "total_flights": {"$sum": 1}
        }
    },
    {"$sort": {"_id.year": 1, "_id.month": 1}}
]))

df_monthly = pd.DataFrame(monthly_delays)
if not df_monthly.empty:
    df_monthly['date'] = pd.to_datetime(
        df_monthly['_id'].apply(lambda x: f"{x['year']}-{x['month']}-01")
    )
    
    plt.figure(figsize=(12, 6))
    plt.plot(df_monthly['date'], df_monthly['avg_delay'], marker='o')
    plt.title('Average Delay Trends Over Time')
    plt.xlabel('Date')
    plt.ylabel('Average Delay (minutes)')
    plt.grid(True)
    plt.tight_layout()
    plt.savefig('delay_trends.png')
    plt.close()

# ## 7. Save Results to GCS
# Save analysis results to GCS
results = {
    "total_flights": total_flights,
    "delay_by_airline": delay_by_airline,
    "busiest_airports": busiest_airports,
    "monthly_trends": monthly_delays
}

blob = bucket.blob("analysis_results/pipeline_analysis.json")
blob.upload_from_string(json.dumps(results, indent=2, default=str))

print("Analysis complete! Results saved to GCS.")

# ## 8. Save Results to GCS
# Sort airlines by average delay
df_delays_sorted = df_delays.sort_values(by='avg_delay', ascending=False)

plt.figure(figsize=(12, 6))
sns.barplot(data=df_delays_sorted, x='_id', y='avg_delay', palette='Blues_d')

plt.title("Average Flight Delay by Airline")
plt.xlabel("Airline Code")
plt.ylabel("Average Delay (minutes)")
plt.xticks(rotation=45)
plt.tight_layout()
plt.show()
